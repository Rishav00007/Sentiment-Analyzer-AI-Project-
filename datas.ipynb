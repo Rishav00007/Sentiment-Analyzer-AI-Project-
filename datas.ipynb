{
 "cells": [
  {
   "cell_type": "code",
   "execution_count": 1,
   "id": "7db36d6d",
   "metadata": {},
   "outputs": [],
   "source": [
    "path  = r\"data\\train.csv\"\n",
    "\n",
    "import pandas as pd"
   ]
  },
  {
   "cell_type": "code",
   "execution_count": 31,
   "id": "98fea83c",
   "metadata": {},
   "outputs": [],
   "source": [
    "df = pd.read_csv(path)"
   ]
  },
  {
   "cell_type": "code",
   "execution_count": 32,
   "id": "a230615d",
   "metadata": {},
   "outputs": [
    {
     "data": {
      "text/html": [
       "<div>\n",
       "<style scoped>\n",
       "    .dataframe tbody tr th:only-of-type {\n",
       "        vertical-align: middle;\n",
       "    }\n",
       "\n",
       "    .dataframe tbody tr th {\n",
       "        vertical-align: top;\n",
       "    }\n",
       "\n",
       "    .dataframe thead th {\n",
       "        text-align: right;\n",
       "    }\n",
       "</style>\n",
       "<table border=\"1\" class=\"dataframe\">\n",
       "  <thead>\n",
       "    <tr style=\"text-align: right;\">\n",
       "      <th></th>\n",
       "      <th>review</th>\n",
       "      <th>label</th>\n",
       "    </tr>\n",
       "  </thead>\n",
       "  <tbody>\n",
       "    <tr>\n",
       "      <th>0</th>\n",
       "      <td>almost enyas cds listen almost religiously rel...</td>\n",
       "      <td>0</td>\n",
       "    </tr>\n",
       "    <tr>\n",
       "      <th>1</th>\n",
       "      <td>read richard mathesons book years ago enjoyed ...</td>\n",
       "      <td>2</td>\n",
       "    </tr>\n",
       "    <tr>\n",
       "      <th>2</th>\n",
       "      <td>perhaps set expectations high movie based past...</td>\n",
       "      <td>2</td>\n",
       "    </tr>\n",
       "    <tr>\n",
       "      <th>3</th>\n",
       "      <td>got product due fact allure best beauty produc...</td>\n",
       "      <td>0</td>\n",
       "    </tr>\n",
       "    <tr>\n",
       "      <th>4</th>\n",
       "      <td>dont get confused thinking jack black tenaciou...</td>\n",
       "      <td>0</td>\n",
       "    </tr>\n",
       "    <tr>\n",
       "      <th>...</th>\n",
       "      <td>...</td>\n",
       "      <td>...</td>\n",
       "    </tr>\n",
       "    <tr>\n",
       "      <th>341077</th>\n",
       "      <td>1st acdc album recorded death bon scott anothe...</td>\n",
       "      <td>1</td>\n",
       "    </tr>\n",
       "    <tr>\n",
       "      <th>341078</th>\n",
       "      <td>enjoyed reading book although wish one date le...</td>\n",
       "      <td>2</td>\n",
       "    </tr>\n",
       "    <tr>\n",
       "      <th>341079</th>\n",
       "      <td>subscribed magazine whim happy receive copy mo...</td>\n",
       "      <td>1</td>\n",
       "    </tr>\n",
       "    <tr>\n",
       "      <th>341080</th>\n",
       "      <td>book excellent souce information canine friend...</td>\n",
       "      <td>1</td>\n",
       "    </tr>\n",
       "    <tr>\n",
       "      <th>341081</th>\n",
       "      <td>good movie good story line expected good story...</td>\n",
       "      <td>1</td>\n",
       "    </tr>\n",
       "  </tbody>\n",
       "</table>\n",
       "<p>341082 rows × 2 columns</p>\n",
       "</div>"
      ],
      "text/plain": [
       "                                                   review  label\n",
       "0       almost enyas cds listen almost religiously rel...      0\n",
       "1       read richard mathesons book years ago enjoyed ...      2\n",
       "2       perhaps set expectations high movie based past...      2\n",
       "3       got product due fact allure best beauty produc...      0\n",
       "4       dont get confused thinking jack black tenaciou...      0\n",
       "...                                                   ...    ...\n",
       "341077  1st acdc album recorded death bon scott anothe...      1\n",
       "341078  enjoyed reading book although wish one date le...      2\n",
       "341079  subscribed magazine whim happy receive copy mo...      1\n",
       "341080  book excellent souce information canine friend...      1\n",
       "341081  good movie good story line expected good story...      1\n",
       "\n",
       "[341082 rows x 2 columns]"
      ]
     },
     "execution_count": 32,
     "metadata": {},
     "output_type": "execute_result"
    }
   ],
   "source": [
    "df"
   ]
  },
  {
   "cell_type": "code",
   "execution_count": 33,
   "id": "a442f8a4",
   "metadata": {},
   "outputs": [],
   "source": [
    "df = df.head(150000)"
   ]
  },
  {
   "cell_type": "code",
   "execution_count": 34,
   "id": "b47ddd58",
   "metadata": {},
   "outputs": [
    {
     "data": {
      "text/html": [
       "<div>\n",
       "<style scoped>\n",
       "    .dataframe tbody tr th:only-of-type {\n",
       "        vertical-align: middle;\n",
       "    }\n",
       "\n",
       "    .dataframe tbody tr th {\n",
       "        vertical-align: top;\n",
       "    }\n",
       "\n",
       "    .dataframe thead th {\n",
       "        text-align: right;\n",
       "    }\n",
       "</style>\n",
       "<table border=\"1\" class=\"dataframe\">\n",
       "  <thead>\n",
       "    <tr style=\"text-align: right;\">\n",
       "      <th></th>\n",
       "      <th>review</th>\n",
       "      <th>label</th>\n",
       "    </tr>\n",
       "  </thead>\n",
       "  <tbody>\n",
       "    <tr>\n",
       "      <th>0</th>\n",
       "      <td>almost enyas cds listen almost religiously rel...</td>\n",
       "      <td>0</td>\n",
       "    </tr>\n",
       "    <tr>\n",
       "      <th>1</th>\n",
       "      <td>read richard mathesons book years ago enjoyed ...</td>\n",
       "      <td>2</td>\n",
       "    </tr>\n",
       "    <tr>\n",
       "      <th>2</th>\n",
       "      <td>perhaps set expectations high movie based past...</td>\n",
       "      <td>2</td>\n",
       "    </tr>\n",
       "    <tr>\n",
       "      <th>3</th>\n",
       "      <td>got product due fact allure best beauty produc...</td>\n",
       "      <td>0</td>\n",
       "    </tr>\n",
       "    <tr>\n",
       "      <th>4</th>\n",
       "      <td>dont get confused thinking jack black tenaciou...</td>\n",
       "      <td>0</td>\n",
       "    </tr>\n",
       "    <tr>\n",
       "      <th>...</th>\n",
       "      <td>...</td>\n",
       "      <td>...</td>\n",
       "    </tr>\n",
       "    <tr>\n",
       "      <th>149995</th>\n",
       "      <td>fun book read really believable endearing char...</td>\n",
       "      <td>2</td>\n",
       "    </tr>\n",
       "    <tr>\n",
       "      <th>149996</th>\n",
       "      <td>cute small gps enough take around california v...</td>\n",
       "      <td>2</td>\n",
       "    </tr>\n",
       "    <tr>\n",
       "      <th>149997</th>\n",
       "      <td>18 month old loves elmo got video favorite the...</td>\n",
       "      <td>2</td>\n",
       "    </tr>\n",
       "    <tr>\n",
       "      <th>149998</th>\n",
       "      <td>konnichiwa shall dance one famous musical numb...</td>\n",
       "      <td>1</td>\n",
       "    </tr>\n",
       "    <tr>\n",
       "      <th>149999</th>\n",
       "      <td>2007 release harper collins clearly attempt ca...</td>\n",
       "      <td>2</td>\n",
       "    </tr>\n",
       "  </tbody>\n",
       "</table>\n",
       "<p>150000 rows × 2 columns</p>\n",
       "</div>"
      ],
      "text/plain": [
       "                                                   review  label\n",
       "0       almost enyas cds listen almost religiously rel...      0\n",
       "1       read richard mathesons book years ago enjoyed ...      2\n",
       "2       perhaps set expectations high movie based past...      2\n",
       "3       got product due fact allure best beauty produc...      0\n",
       "4       dont get confused thinking jack black tenaciou...      0\n",
       "...                                                   ...    ...\n",
       "149995  fun book read really believable endearing char...      2\n",
       "149996  cute small gps enough take around california v...      2\n",
       "149997  18 month old loves elmo got video favorite the...      2\n",
       "149998  konnichiwa shall dance one famous musical numb...      1\n",
       "149999  2007 release harper collins clearly attempt ca...      2\n",
       "\n",
       "[150000 rows x 2 columns]"
      ]
     },
     "execution_count": 34,
     "metadata": {},
     "output_type": "execute_result"
    }
   ],
   "source": [
    "df"
   ]
  },
  {
   "cell_type": "code",
   "execution_count": 35,
   "id": "8ef28d62",
   "metadata": {},
   "outputs": [
    {
     "name": "stdout",
     "output_type": "stream",
     "text": [
      "Before balancing:\n",
      "label\n",
      "0    50037\n",
      "2    49990\n",
      "1    49973\n",
      "Name: count, dtype: int64\n"
     ]
    }
   ],
   "source": [
    "print(\"Before balancing:\")\n",
    "print(df['label'].value_counts())"
   ]
  },
  {
   "cell_type": "code",
   "execution_count": 36,
   "id": "c7ca9347",
   "metadata": {},
   "outputs": [
    {
     "name": "stderr",
     "output_type": "stream",
     "text": [
      "C:\\Users\\RISHAV\\AppData\\Local\\Temp\\ipykernel_22588\\3207455030.py:8: DeprecationWarning: DataFrameGroupBy.apply operated on the grouping columns. This behavior is deprecated, and in a future version of pandas the grouping columns will be excluded from the operation. Either pass `include_groups=False` to exclude the groupings or explicitly select the grouping columns after groupby to silence this warning.\n",
      "  balanced_df = grouped.apply(lambda x: x.sample(n=min_count, random_state=42)).reset_index(drop=True)\n"
     ]
    }
   ],
   "source": [
    "# Group by label\n",
    "grouped = df.groupby(\"label\")\n",
    "\n",
    "# Get the minimum class count\n",
    "min_count = grouped.size().min()\n",
    "\n",
    "# Sample equally from each class\n",
    "balanced_df = grouped.apply(lambda x: x.sample(n=min_count, random_state=42)).reset_index(drop=True)\n",
    "\n",
    "# Shuffle the balanced dataset\n",
    "balanced_df = balanced_df.sample(frac=1, random_state=42).reset_index(drop=True)"
   ]
  },
  {
   "cell_type": "code",
   "execution_count": 37,
   "id": "9e72ccea",
   "metadata": {},
   "outputs": [
    {
     "name": "stdout",
     "output_type": "stream",
     "text": [
      "\n",
      "After balancing:\n",
      "label\n",
      "0    49973\n",
      "2    49973\n",
      "1    49973\n",
      "Name: count, dtype: int64\n"
     ]
    }
   ],
   "source": [
    "print(\"\\nAfter balancing:\")\n",
    "print(balanced_df['label'].value_counts())\n",
    "balanced_df.to_csv(\"data/new__train02.csv\", index=False)"
   ]
  },
  {
   "cell_type": "code",
   "execution_count": null,
   "id": "ed558713",
   "metadata": {},
   "outputs": [],
   "source": []
  },
  {
   "cell_type": "code",
   "execution_count": null,
   "id": "95007f2e",
   "metadata": {},
   "outputs": [],
   "source": []
  },
  {
   "cell_type": "code",
   "execution_count": 13,
   "id": "f1dd6fd6",
   "metadata": {},
   "outputs": [],
   "source": [
    "df['label'] = df['label'].map({'positive': 1, 'negative': 0, 'neutral':2})"
   ]
  },
  {
   "cell_type": "code",
   "execution_count": 14,
   "id": "f290aabe",
   "metadata": {},
   "outputs": [
    {
     "data": {
      "text/html": [
       "<div>\n",
       "<style scoped>\n",
       "    .dataframe tbody tr th:only-of-type {\n",
       "        vertical-align: middle;\n",
       "    }\n",
       "\n",
       "    .dataframe tbody tr th {\n",
       "        vertical-align: top;\n",
       "    }\n",
       "\n",
       "    .dataframe thead th {\n",
       "        text-align: right;\n",
       "    }\n",
       "</style>\n",
       "<table border=\"1\" class=\"dataframe\">\n",
       "  <thead>\n",
       "    <tr style=\"text-align: right;\">\n",
       "      <th></th>\n",
       "      <th>label</th>\n",
       "      <th>review</th>\n",
       "    </tr>\n",
       "  </thead>\n",
       "  <tbody>\n",
       "    <tr>\n",
       "      <th>0</th>\n",
       "      <td>2</td>\n",
       "      <td>gave dad gag gift directing nunsense got reall...</td>\n",
       "    </tr>\n",
       "    <tr>\n",
       "      <th>1</th>\n",
       "      <td>1</td>\n",
       "      <td>hope lot people hear cd need strong positive v...</td>\n",
       "    </tr>\n",
       "    <tr>\n",
       "      <th>2</th>\n",
       "      <td>1</td>\n",
       "      <td>im reading lot reviews saying best game soundt...</td>\n",
       "    </tr>\n",
       "    <tr>\n",
       "      <th>3</th>\n",
       "      <td>1</td>\n",
       "      <td>probably greatest soundtrack history usually b...</td>\n",
       "    </tr>\n",
       "    <tr>\n",
       "      <th>4</th>\n",
       "      <td>1</td>\n",
       "      <td>theres reason cd expensive even version thats ...</td>\n",
       "    </tr>\n",
       "    <tr>\n",
       "      <th>...</th>\n",
       "      <td>...</td>\n",
       "      <td>...</td>\n",
       "    </tr>\n",
       "    <tr>\n",
       "      <th>1799995</th>\n",
       "      <td>1</td>\n",
       "      <td>amazing good fortune acquainted bob gary doug ...</td>\n",
       "    </tr>\n",
       "    <tr>\n",
       "      <th>1799996</th>\n",
       "      <td>2</td>\n",
       "      <td>high chair great features storage space bibs w...</td>\n",
       "    </tr>\n",
       "    <tr>\n",
       "      <th>1799997</th>\n",
       "      <td>0</td>\n",
       "      <td>high chair looks great first comes box hill im...</td>\n",
       "    </tr>\n",
       "    <tr>\n",
       "      <th>1799998</th>\n",
       "      <td>2</td>\n",
       "      <td>agree everyone else says chair hard clean boug...</td>\n",
       "    </tr>\n",
       "    <tr>\n",
       "      <th>1799999</th>\n",
       "      <td>0</td>\n",
       "      <td>sure book supposed really rehash old ideas car...</td>\n",
       "    </tr>\n",
       "  </tbody>\n",
       "</table>\n",
       "<p>1800000 rows × 2 columns</p>\n",
       "</div>"
      ],
      "text/plain": [
       "         label                                             review\n",
       "0            2  gave dad gag gift directing nunsense got reall...\n",
       "1            1  hope lot people hear cd need strong positive v...\n",
       "2            1  im reading lot reviews saying best game soundt...\n",
       "3            1  probably greatest soundtrack history usually b...\n",
       "4            1  theres reason cd expensive even version thats ...\n",
       "...        ...                                                ...\n",
       "1799995      1  amazing good fortune acquainted bob gary doug ...\n",
       "1799996      2  high chair great features storage space bibs w...\n",
       "1799997      0  high chair looks great first comes box hill im...\n",
       "1799998      2  agree everyone else says chair hard clean boug...\n",
       "1799999      0  sure book supposed really rehash old ideas car...\n",
       "\n",
       "[1800000 rows x 2 columns]"
      ]
     },
     "execution_count": 14,
     "metadata": {},
     "output_type": "execute_result"
    }
   ],
   "source": [
    "df"
   ]
  },
  {
   "cell_type": "code",
   "execution_count": 15,
   "id": "e352439b",
   "metadata": {},
   "outputs": [],
   "source": [
    "df = df.head(350000)"
   ]
  },
  {
   "cell_type": "code",
   "execution_count": 16,
   "id": "802b7bd3",
   "metadata": {},
   "outputs": [
    {
     "data": {
      "text/html": [
       "<div>\n",
       "<style scoped>\n",
       "    .dataframe tbody tr th:only-of-type {\n",
       "        vertical-align: middle;\n",
       "    }\n",
       "\n",
       "    .dataframe tbody tr th {\n",
       "        vertical-align: top;\n",
       "    }\n",
       "\n",
       "    .dataframe thead th {\n",
       "        text-align: right;\n",
       "    }\n",
       "</style>\n",
       "<table border=\"1\" class=\"dataframe\">\n",
       "  <thead>\n",
       "    <tr style=\"text-align: right;\">\n",
       "      <th></th>\n",
       "      <th>label</th>\n",
       "      <th>review</th>\n",
       "    </tr>\n",
       "  </thead>\n",
       "  <tbody>\n",
       "    <tr>\n",
       "      <th>0</th>\n",
       "      <td>2</td>\n",
       "      <td>gave dad gag gift directing nunsense got reall...</td>\n",
       "    </tr>\n",
       "    <tr>\n",
       "      <th>1</th>\n",
       "      <td>1</td>\n",
       "      <td>hope lot people hear cd need strong positive v...</td>\n",
       "    </tr>\n",
       "    <tr>\n",
       "      <th>2</th>\n",
       "      <td>1</td>\n",
       "      <td>im reading lot reviews saying best game soundt...</td>\n",
       "    </tr>\n",
       "    <tr>\n",
       "      <th>3</th>\n",
       "      <td>1</td>\n",
       "      <td>probably greatest soundtrack history usually b...</td>\n",
       "    </tr>\n",
       "    <tr>\n",
       "      <th>4</th>\n",
       "      <td>1</td>\n",
       "      <td>theres reason cd expensive even version thats ...</td>\n",
       "    </tr>\n",
       "    <tr>\n",
       "      <th>...</th>\n",
       "      <td>...</td>\n",
       "      <td>...</td>\n",
       "    </tr>\n",
       "    <tr>\n",
       "      <th>349995</th>\n",
       "      <td>1</td>\n",
       "      <td>predictable times great movie watch friends laugh</td>\n",
       "    </tr>\n",
       "    <tr>\n",
       "      <th>349996</th>\n",
       "      <td>0</td>\n",
       "      <td>warriors terra pretty terrible filmed lot dark...</td>\n",
       "    </tr>\n",
       "    <tr>\n",
       "      <th>349997</th>\n",
       "      <td>2</td>\n",
       "      <td>commenting reviewer reviewed prior street date...</td>\n",
       "    </tr>\n",
       "    <tr>\n",
       "      <th>349998</th>\n",
       "      <td>0</td>\n",
       "      <td>documentary less research freshman term paper ...</td>\n",
       "    </tr>\n",
       "    <tr>\n",
       "      <th>349999</th>\n",
       "      <td>1</td>\n",
       "      <td>past counts germany allied different forces na...</td>\n",
       "    </tr>\n",
       "  </tbody>\n",
       "</table>\n",
       "<p>350000 rows × 2 columns</p>\n",
       "</div>"
      ],
      "text/plain": [
       "        label                                             review\n",
       "0           2  gave dad gag gift directing nunsense got reall...\n",
       "1           1  hope lot people hear cd need strong positive v...\n",
       "2           1  im reading lot reviews saying best game soundt...\n",
       "3           1  probably greatest soundtrack history usually b...\n",
       "4           1  theres reason cd expensive even version thats ...\n",
       "...       ...                                                ...\n",
       "349995      1  predictable times great movie watch friends laugh\n",
       "349996      0  warriors terra pretty terrible filmed lot dark...\n",
       "349997      2  commenting reviewer reviewed prior street date...\n",
       "349998      0  documentary less research freshman term paper ...\n",
       "349999      1  past counts germany allied different forces na...\n",
       "\n",
       "[350000 rows x 2 columns]"
      ]
     },
     "execution_count": 16,
     "metadata": {},
     "output_type": "execute_result"
    }
   ],
   "source": [
    "df"
   ]
  },
  {
   "cell_type": "code",
   "execution_count": 18,
   "id": "1a1dbb80",
   "metadata": {},
   "outputs": [],
   "source": [
    "cols = list(df.columns)\n",
    "i, j = cols.index('label'), cols.index('review')\n",
    "cols[i], cols[j] = cols[j], cols[i]\n",
    "\n",
    "# Reorder the DataFrame\n",
    "df = df[cols]"
   ]
  },
  {
   "cell_type": "code",
   "execution_count": 19,
   "id": "55958e43",
   "metadata": {},
   "outputs": [
    {
     "data": {
      "text/html": [
       "<div>\n",
       "<style scoped>\n",
       "    .dataframe tbody tr th:only-of-type {\n",
       "        vertical-align: middle;\n",
       "    }\n",
       "\n",
       "    .dataframe tbody tr th {\n",
       "        vertical-align: top;\n",
       "    }\n",
       "\n",
       "    .dataframe thead th {\n",
       "        text-align: right;\n",
       "    }\n",
       "</style>\n",
       "<table border=\"1\" class=\"dataframe\">\n",
       "  <thead>\n",
       "    <tr style=\"text-align: right;\">\n",
       "      <th></th>\n",
       "      <th>review</th>\n",
       "      <th>label</th>\n",
       "    </tr>\n",
       "  </thead>\n",
       "  <tbody>\n",
       "    <tr>\n",
       "      <th>0</th>\n",
       "      <td>gave dad gag gift directing nunsense got reall...</td>\n",
       "      <td>2</td>\n",
       "    </tr>\n",
       "    <tr>\n",
       "      <th>1</th>\n",
       "      <td>hope lot people hear cd need strong positive v...</td>\n",
       "      <td>1</td>\n",
       "    </tr>\n",
       "    <tr>\n",
       "      <th>2</th>\n",
       "      <td>im reading lot reviews saying best game soundt...</td>\n",
       "      <td>1</td>\n",
       "    </tr>\n",
       "    <tr>\n",
       "      <th>3</th>\n",
       "      <td>probably greatest soundtrack history usually b...</td>\n",
       "      <td>1</td>\n",
       "    </tr>\n",
       "    <tr>\n",
       "      <th>4</th>\n",
       "      <td>theres reason cd expensive even version thats ...</td>\n",
       "      <td>1</td>\n",
       "    </tr>\n",
       "    <tr>\n",
       "      <th>...</th>\n",
       "      <td>...</td>\n",
       "      <td>...</td>\n",
       "    </tr>\n",
       "    <tr>\n",
       "      <th>349995</th>\n",
       "      <td>predictable times great movie watch friends laugh</td>\n",
       "      <td>1</td>\n",
       "    </tr>\n",
       "    <tr>\n",
       "      <th>349996</th>\n",
       "      <td>warriors terra pretty terrible filmed lot dark...</td>\n",
       "      <td>0</td>\n",
       "    </tr>\n",
       "    <tr>\n",
       "      <th>349997</th>\n",
       "      <td>commenting reviewer reviewed prior street date...</td>\n",
       "      <td>2</td>\n",
       "    </tr>\n",
       "    <tr>\n",
       "      <th>349998</th>\n",
       "      <td>documentary less research freshman term paper ...</td>\n",
       "      <td>0</td>\n",
       "    </tr>\n",
       "    <tr>\n",
       "      <th>349999</th>\n",
       "      <td>past counts germany allied different forces na...</td>\n",
       "      <td>1</td>\n",
       "    </tr>\n",
       "  </tbody>\n",
       "</table>\n",
       "<p>350000 rows × 2 columns</p>\n",
       "</div>"
      ],
      "text/plain": [
       "                                                   review  label\n",
       "0       gave dad gag gift directing nunsense got reall...      2\n",
       "1       hope lot people hear cd need strong positive v...      1\n",
       "2       im reading lot reviews saying best game soundt...      1\n",
       "3       probably greatest soundtrack history usually b...      1\n",
       "4       theres reason cd expensive even version thats ...      1\n",
       "...                                                   ...    ...\n",
       "349995  predictable times great movie watch friends laugh      1\n",
       "349996  warriors terra pretty terrible filmed lot dark...      0\n",
       "349997  commenting reviewer reviewed prior street date...      2\n",
       "349998  documentary less research freshman term paper ...      0\n",
       "349999  past counts germany allied different forces na...      1\n",
       "\n",
       "[350000 rows x 2 columns]"
      ]
     },
     "execution_count": 19,
     "metadata": {},
     "output_type": "execute_result"
    }
   ],
   "source": [
    "df"
   ]
  },
  {
   "cell_type": "code",
   "execution_count": 20,
   "id": "c31f16aa",
   "metadata": {},
   "outputs": [
    {
     "name": "stdout",
     "output_type": "stream",
     "text": [
      "Unique label values: [2 1 0]\n"
     ]
    }
   ],
   "source": [
    "print(\"Unique label values:\", df['label'].unique())"
   ]
  },
  {
   "cell_type": "code",
   "execution_count": 21,
   "id": "e5f399ff",
   "metadata": {},
   "outputs": [
    {
     "name": "stdout",
     "output_type": "stream",
     "text": [
      "Before balancing:\n",
      "label\n",
      "1    118261\n",
      "2    118045\n",
      "0    113694\n",
      "Name: count, dtype: int64\n"
     ]
    }
   ],
   "source": [
    "print(\"Before balancing:\")\n",
    "print(df['label'].value_counts())"
   ]
  },
  {
   "cell_type": "code",
   "execution_count": 22,
   "id": "c2224cca",
   "metadata": {},
   "outputs": [
    {
     "name": "stderr",
     "output_type": "stream",
     "text": [
      "C:\\Users\\RISHAV\\AppData\\Local\\Temp\\ipykernel_22588\\3207455030.py:8: DeprecationWarning: DataFrameGroupBy.apply operated on the grouping columns. This behavior is deprecated, and in a future version of pandas the grouping columns will be excluded from the operation. Either pass `include_groups=False` to exclude the groupings or explicitly select the grouping columns after groupby to silence this warning.\n",
      "  balanced_df = grouped.apply(lambda x: x.sample(n=min_count, random_state=42)).reset_index(drop=True)\n"
     ]
    }
   ],
   "source": [
    "# Group by label\n",
    "grouped = df.groupby(\"label\")\n",
    "\n",
    "# Get the minimum class count\n",
    "min_count = grouped.size().min()\n",
    "\n",
    "# Sample equally from each class\n",
    "balanced_df = grouped.apply(lambda x: x.sample(n=min_count, random_state=42)).reset_index(drop=True)\n",
    "\n",
    "# Shuffle the balanced dataset\n",
    "balanced_df = balanced_df.sample(frac=1, random_state=42).reset_index(drop=True)"
   ]
  },
  {
   "cell_type": "code",
   "execution_count": 23,
   "id": "7126d5b8",
   "metadata": {},
   "outputs": [
    {
     "name": "stdout",
     "output_type": "stream",
     "text": [
      "\n",
      "After balancing:\n",
      "label\n",
      "0    113694\n",
      "2    113694\n",
      "1    113694\n",
      "Name: count, dtype: int64\n"
     ]
    }
   ],
   "source": [
    "print(\"\\nAfter balancing:\")\n",
    "print(balanced_df['label'].value_counts())\n",
    "balanced_df.to_csv(\"data/new__train.csv\", index=False)"
   ]
  },
  {
   "cell_type": "code",
   "execution_count": null,
   "id": "b0c41e5a",
   "metadata": {},
   "outputs": [],
   "source": []
  },
  {
   "cell_type": "code",
   "execution_count": null,
   "id": "6016c294",
   "metadata": {},
   "outputs": [],
   "source": []
  }
 ],
 "metadata": {
  "kernelspec": {
   "display_name": "Python 3",
   "language": "python",
   "name": "python3"
  },
  "language_info": {
   "codemirror_mode": {
    "name": "ipython",
    "version": 3
   },
   "file_extension": ".py",
   "mimetype": "text/x-python",
   "name": "python",
   "nbconvert_exporter": "python",
   "pygments_lexer": "ipython3",
   "version": "3.12.1"
  }
 },
 "nbformat": 4,
 "nbformat_minor": 5
}
